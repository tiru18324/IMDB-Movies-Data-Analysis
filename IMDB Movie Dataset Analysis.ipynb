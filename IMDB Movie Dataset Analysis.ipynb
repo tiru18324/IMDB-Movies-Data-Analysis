{
 "cells": [
  {
   "cell_type": "code",
   "execution_count": 1,
   "metadata": {},
   "outputs": [],
   "source": [
    "import pandas as pd \n",
    "import seaborn as sns \n",
    "import matplotlib.pyplot as plt"
   ]
  },
  {
   "cell_type": "code",
   "execution_count": 2,
   "metadata": {},
   "outputs": [],
   "source": [
    "data7=pd.read_csv('C:\\\\Users\\\\Rohith varma\\\\Downloads\\\\archive (7)\\\\IMDB-Movie-Data.csv')"
   ]
  },
  {
   "cell_type": "code",
   "execution_count": 3,
   "metadata": {},
   "outputs": [
    {
     "data": {
      "text/plain": [
       "Rank                    0\n",
       "Title                   0\n",
       "Genre                   0\n",
       "Description             0\n",
       "Director                0\n",
       "Actors                  0\n",
       "Year                    0\n",
       "Runtime (Minutes)       0\n",
       "Rating                  0\n",
       "Votes                   0\n",
       "Revenue (Millions)    128\n",
       "Metascore              64\n",
       "dtype: int64"
      ]
     },
     "execution_count": 3,
     "metadata": {},
     "output_type": "execute_result"
    }
   ],
   "source": [
    "#Check missing values in dataset \n",
    "data7.isnull().sum()"
   ]
  },
  {
   "cell_type": "code",
   "execution_count": 4,
   "metadata": {},
   "outputs": [
    {
     "data": {
      "text/plain": [
       "<AxesSubplot:>"
      ]
     },
     "execution_count": 4,
     "metadata": {},
     "output_type": "execute_result"
    },
    {
     "data": {
      "image/png": "[encoded data removed]",
      "text/plain": [
       "<Figure size 432x288 with 2 Axes>"
      ]
     },
     "metadata": {
      "needs_background": "light"
     },
     "output_type": "display_data"
    }
   ],
   "source": [
    "sns.heatmap(data7.isnull())"
   ]
  },
  {
   "cell_type": "code",
   "execution_count": 5,
   "metadata": {},
   "outputs": [],
   "source": [
    "# % of missing values \n",
    "missing_values=data7.isnull().sum()*100/len(data7)"
   ]
  },
  {
   "cell_type": "code",
   "execution_count": 6,
   "metadata": {},
   "outputs": [
    {
     "data": {
      "text/plain": [
       "Rank                   0.0\n",
       "Title                  0.0\n",
       "Genre                  0.0\n",
       "Description            0.0\n",
       "Director               0.0\n",
       "Actors                 0.0\n",
       "Year                   0.0\n",
       "Runtime (Minutes)      0.0\n",
       "Rating                 0.0\n",
       "Votes                  0.0\n",
       "Revenue (Millions)    12.8\n",
       "Metascore              6.4\n",
       "dtype: float64"
      ]
     },
     "execution_count": 6,
     "metadata": {},
     "output_type": "execute_result"
    }
   ],
   "source": [
    "missing_values"
   ]
  },
  {
   "cell_type": "code",
   "execution_count": 7,
   "metadata": {},
   "outputs": [],
   "source": [
    "#Drop the missing values \n",
    "data7.dropna(axis=0,inplace=True)"
   ]
  },
  {
   "cell_type": "code",
   "execution_count": 8,
   "metadata": {},
   "outputs": [
    {
     "data": {
      "text/plain": [
       "Rank                  0\n",
       "Title                 0\n",
       "Genre                 0\n",
       "Description           0\n",
       "Director              0\n",
       "Actors                0\n",
       "Year                  0\n",
       "Runtime (Minutes)     0\n",
       "Rating                0\n",
       "Votes                 0\n",
       "Revenue (Millions)    0\n",
       "Metascore             0\n",
       "dtype: int64"
      ]
     },
     "execution_count": 8,
     "metadata": {},
     "output_type": "execute_result"
    }
   ],
   "source": [
    "data7.isnull().sum()"
   ]
  },
  {
   "cell_type": "code",
   "execution_count": 9,
   "metadata": {},
   "outputs": [
    {
     "data": {
      "text/plain": [
       "False"
      ]
     },
     "execution_count": 9,
     "metadata": {},
     "output_type": "execute_result"
    }
   ],
   "source": [
    "data7.duplicated().any()"
   ]
  },
  {
   "cell_type": "code",
   "execution_count": 10,
   "metadata": {},
   "outputs": [],
   "source": [
    "#display title of movie having runtime >= 180 minutes "
   ]
  },
  {
   "cell_type": "code",
   "execution_count": 11,
   "metadata": {},
   "outputs": [
    {
     "data": {
      "text/plain": [
       "82     The Wolf of Wall Street\n",
       "88           The Hateful Eight\n",
       "311             La vie d'Adèle\n",
       "Name: Title, dtype: object"
      ]
     },
     "execution_count": 11,
     "metadata": {},
     "output_type": "execute_result"
    }
   ],
   "source": [
    "data7[data7['Runtime (Minutes)']>= 180]['Title']"
   ]
  },
  {
   "cell_type": "code",
   "execution_count": 12,
   "metadata": {},
   "outputs": [
    {
     "data": {
      "text/plain": [
       "Year\n",
       "2012    290861.483871\n",
       "2006    277232.219512\n",
       "2009    267180.577778\n",
       "2008    266580.145833\n",
       "2007    266530.704545\n",
       "2010    261082.929825\n",
       "2011    259254.736842\n",
       "2013    225531.892857\n",
       "2014    211926.881720\n",
       "2015    129512.651376\n",
       "2016     68437.823232\n",
       "Name: Votes, dtype: float64"
      ]
     },
     "execution_count": 12,
     "metadata": {},
     "output_type": "execute_result"
    }
   ],
   "source": [
    "#in which year there was the highest average voting \n",
    "data7.groupby('Year')['Votes'].mean().sort_values(ascending=False)"
   ]
  },
  {
   "cell_type": "code",
   "execution_count": 13,
   "metadata": {},
   "outputs": [
    {
     "data": {
      "text/plain": [
       "<AxesSubplot:xlabel='Year', ylabel='Votes'>"
      ]
     },
     "execution_count": 13,
     "metadata": {},
     "output_type": "execute_result"
    },
    {
     "data": {
      "image/png": "[encoded data removed]",
      "text/plain": [
       "<Figure size 432x288 with 1 Axes>"
      ]
     },
     "metadata": {
      "needs_background": "light"
     },
     "output_type": "display_data"
    }
   ],
   "source": [
    "sns.barplot(x='Year',y='Votes',data=data7)"
   ]
  },
  {
   "cell_type": "code",
   "execution_count": 14,
   "metadata": {},
   "outputs": [
    {
     "data": {
      "text/plain": [
       "Year\n",
       "2009    115.742000\n",
       "2012    110.103065\n",
       "2010    105.081579\n",
       "2008     97.525417\n",
       "2011     93.703333\n",
       "2007     93.074091\n",
       "2013     88.084643\n",
       "2006     87.255610\n",
       "2014     85.433656\n",
       "2015     80.725596\n",
       "2016     55.566111\n",
       "Name: Revenue (Millions), dtype: float64"
      ]
     },
     "execution_count": 14,
     "metadata": {},
     "output_type": "execute_result"
    }
   ],
   "source": [
    "#In which year there was the highest average revenue \n",
    "data7.groupby('Year')['Revenue (Millions)'].mean().sort_values(ascending=False)"
   ]
  },
  {
   "cell_type": "code",
   "execution_count": 15,
   "metadata": {},
   "outputs": [
    {
     "data": {
      "text/plain": [
       "Text(0.5, 1.0, 'Vots by revenue')"
      ]
     },
     "execution_count": 15,
     "metadata": {},
     "output_type": "execute_result"
    },
    {
     "data": {
      "image/png": "[encoded data removed]",
      "text/plain": [
       "<Figure size 432x288 with 1 Axes>"
      ]
     },
     "metadata": {
      "needs_background": "light"
     },
     "output_type": "display_data"
    }
   ],
   "source": [
    "sns.barplot(x='Year',y='Revenue (Millions)',data=data7) \n",
    "plt.title('Vots by revenue')"
   ]
  },
  {
   "cell_type": "code",
   "execution_count": 16,
   "metadata": {},
   "outputs": [
    {
     "data": {
      "text/plain": [
       "Index(['Rank', 'Title', 'Genre', 'Description', 'Director', 'Actors', 'Year',\n",
       "       'Runtime (Minutes)', 'Rating', 'Votes', 'Revenue (Millions)',\n",
       "       'Metascore'],\n",
       "      dtype='object')"
      ]
     },
     "execution_count": 16,
     "metadata": {},
     "output_type": "execute_result"
    }
   ],
   "source": [
    "#find average rating for each director  \n",
    "data7.columns\n",
    "\n"
   ]
  },
  {
   "cell_type": "code",
   "execution_count": 17,
   "metadata": {},
   "outputs": [
    {
     "data": {
      "text/plain": [
       "Director\n",
       "Aamir Khan             8.50\n",
       "Abdellatif Kechiche    7.80\n",
       "Adam McKay             7.00\n",
       "Adam Shankman          6.30\n",
       "Adam Wingard           5.90\n",
       "                       ... \n",
       "Xavier Dolan           8.10\n",
       "Yimou Zhang            6.10\n",
       "Yorgos Lanthimos       7.20\n",
       "Zack Snyder            7.04\n",
       "Zackary Adler          5.10\n",
       "Name: Rating, Length: 524, dtype: float64"
      ]
     },
     "execution_count": 17,
     "metadata": {},
     "output_type": "execute_result"
    }
   ],
   "source": [
    "data7.groupby('Director')['Rating'].mean()"
   ]
  },
  {
   "cell_type": "code",
   "execution_count": 18,
   "metadata": {},
   "outputs": [],
   "source": [
    "#display top 10 length movies title and runtime \n",
    "#nlargest displays nlarge from the column \n",
    "top10_len=data7.nlargest(10,'Runtime (Minutes)')[['Title','Runtime (Minutes)']] .set_index('Title')"
   ]
  },
  {
   "cell_type": "code",
   "execution_count": 19,
   "metadata": {},
   "outputs": [
    {
     "data": {
      "text/html": [
       "<div>\n",
       "<style scoped>\n",
       "    .dataframe tbody tr th:only-of-type {\n",
       "        vertical-align: middle;\n",
       "    }\n",
       "\n",
       "    .dataframe tbody tr th {\n",
       "        vertical-align: top;\n",
       "    }\n",
       "\n",
       "    .dataframe thead th {\n",
       "        text-align: right;\n",
       "    }\n",
       "</style>\n",
       "<table border=\"1\" class=\"dataframe\">\n",
       "  <thead>\n",
       "    <tr style=\"text-align: right;\">\n",
       "      <th></th>\n",
       "      <th>Runtime (Minutes)</th>\n",
       "    </tr>\n",
       "    <tr>\n",
       "      <th>Title</th>\n",
       "      <th></th>\n",
       "    </tr>\n",
       "  </thead>\n",
       "  <tbody>\n",
       "    <tr>\n",
       "      <th>The Hateful Eight</th>\n",
       "      <td>187</td>\n",
       "    </tr>\n",
       "    <tr>\n",
       "      <th>The Wolf of Wall Street</th>\n",
       "      <td>180</td>\n",
       "    </tr>\n",
       "    <tr>\n",
       "      <th>La vie d'Adèle</th>\n",
       "      <td>180</td>\n",
       "    </tr>\n",
       "    <tr>\n",
       "      <th>Cloud Atlas</th>\n",
       "      <td>172</td>\n",
       "    </tr>\n",
       "    <tr>\n",
       "      <th>3 Idiots</th>\n",
       "      <td>170</td>\n",
       "    </tr>\n",
       "    <tr>\n",
       "      <th>Interstellar</th>\n",
       "      <td>169</td>\n",
       "    </tr>\n",
       "    <tr>\n",
       "      <th>Pirates of the Caribbean: At World's End</th>\n",
       "      <td>169</td>\n",
       "    </tr>\n",
       "    <tr>\n",
       "      <th>The Hobbit: An Unexpected Journey</th>\n",
       "      <td>169</td>\n",
       "    </tr>\n",
       "    <tr>\n",
       "      <th>The Curious Case of Benjamin Button</th>\n",
       "      <td>166</td>\n",
       "    </tr>\n",
       "    <tr>\n",
       "      <th>Transformers: Age of Extinction</th>\n",
       "      <td>165</td>\n",
       "    </tr>\n",
       "  </tbody>\n",
       "</table>\n",
       "</div>"
      ],
      "text/plain": [
       "                                          Runtime (Minutes)\n",
       "Title                                                      \n",
       "The Hateful Eight                                       187\n",
       "The Wolf of Wall Street                                 180\n",
       "La vie d'Adèle                                          180\n",
       "Cloud Atlas                                             172\n",
       "3 Idiots                                                170\n",
       "Interstellar                                            169\n",
       "Pirates of the Caribbean: At World's End                169\n",
       "The Hobbit: An Unexpected Journey                       169\n",
       "The Curious Case of Benjamin Button                     166\n",
       "Transformers: Age of Extinction                         165"
      ]
     },
     "execution_count": 19,
     "metadata": {},
     "output_type": "execute_result"
    }
   ],
   "source": [
    "top10_len"
   ]
  },
  {
   "cell_type": "code",
   "execution_count": 20,
   "metadata": {},
   "outputs": [
    {
     "data": {
      "text/plain": [
       "<AxesSubplot:xlabel='Runtime (Minutes)', ylabel='Title'>"
      ]
     },
     "execution_count": 20,
     "metadata": {},
     "output_type": "execute_result"
    },
    {
     "data": {
      "image/png": "[encoded data removed]",
      "text/plain": [
       "<Figure size 432x288 with 1 Axes>"
      ]
     },
     "metadata": {
      "needs_background": "light"
     },
     "output_type": "display_data"
    }
   ],
   "source": [
    "sns.barplot(x='Runtime (Minutes)',y=top10_len.index,data=top10_len)"
   ]
  },
  {
   "cell_type": "code",
   "execution_count": 21,
   "metadata": {},
   "outputs": [
    {
     "data": {
      "text/plain": [
       "Index(['Rank', 'Title', 'Genre', 'Description', 'Director', 'Actors', 'Year',\n",
       "       'Runtime (Minutes)', 'Rating', 'Votes', 'Revenue (Millions)',\n",
       "       'Metascore'],\n",
       "      dtype='object')"
      ]
     },
     "execution_count": 21,
     "metadata": {},
     "output_type": "execute_result"
    }
   ],
   "source": [
    "#display no of movies per year \n",
    "data7.columns"
   ]
  },
  {
   "cell_type": "code",
   "execution_count": 22,
   "metadata": {},
   "outputs": [
    {
     "data": {
      "text/plain": [
       "2016    198\n",
       "2015    109\n",
       "2014     93\n",
       "2013     84\n",
       "2012     62\n",
       "2011     57\n",
       "2010     57\n",
       "2008     48\n",
       "2009     45\n",
       "2007     44\n",
       "2006     41\n",
       "Name: Year, dtype: int64"
      ]
     },
     "execution_count": 22,
     "metadata": {},
     "output_type": "execute_result"
    }
   ],
   "source": [
    "data7['Year'].value_counts()"
   ]
  },
  {
   "cell_type": "code",
   "execution_count": 23,
   "metadata": {},
   "outputs": [
    {
     "data": {
      "text/plain": [
       "Text(0.5, 1.0, 'No of movies per year')"
      ]
     },
     "execution_count": 23,
     "metadata": {},
     "output_type": "execute_result"
    },
    {
     "data": {
      "image/png": "[encoded data removed]",
      "text/plain": [
       "<Figure size 432x288 with 1 Axes>"
      ]
     },
     "metadata": {
      "needs_background": "light"
     },
     "output_type": "display_data"
    }
   ],
   "source": [
    "sns.countplot(x='Year',data=data7) \n",
    "plt.title('No of movies per year')"
   ]
  },
  {
   "cell_type": "code",
   "execution_count": 24,
   "metadata": {},
   "outputs": [
    {
     "data": {
      "text/plain": [
       "Index(['Rank', 'Title', 'Genre', 'Description', 'Director', 'Actors', 'Year',\n",
       "       'Runtime (Minutes)', 'Rating', 'Votes', 'Revenue (Millions)',\n",
       "       'Metascore'],\n",
       "      dtype='object')"
      ]
     },
     "execution_count": 24,
     "metadata": {},
     "output_type": "execute_result"
    }
   ],
   "source": [
    "#find most popular movie title (highest revenue) \n",
    "data7.columns"
   ]
  },
  {
   "cell_type": "code",
   "execution_count": 25,
   "metadata": {},
   "outputs": [
    {
     "data": {
      "text/plain": [
       "50    Star Wars: Episode VII - The Force Awakens\n",
       "Name: Title, dtype: object"
      ]
     },
     "execution_count": 25,
     "metadata": {},
     "output_type": "execute_result"
    }
   ],
   "source": [
    "data7[data7['Revenue (Millions)'].max()==data7['Revenue (Millions)']]['Title']"
   ]
  },
  {
   "cell_type": "code",
   "execution_count": 26,
   "metadata": {},
   "outputs": [],
   "source": [
    "#Display top 10 Highest Rated Movie titles and its directors\n",
    "top10_len=data7.nlargest(10,'Rating')[['Title','Rating','Director']].set_index('Title')\n"
   ]
  },
  {
   "cell_type": "code",
   "execution_count": 27,
   "metadata": {},
   "outputs": [
    {
     "data": {
      "text/html": [
       "<div>\n",
       "<style scoped>\n",
       "    .dataframe tbody tr th:only-of-type {\n",
       "        vertical-align: middle;\n",
       "    }\n",
       "\n",
       "    .dataframe tbody tr th {\n",
       "        vertical-align: top;\n",
       "    }\n",
       "\n",
       "    .dataframe thead th {\n",
       "        text-align: right;\n",
       "    }\n",
       "</style>\n",
       "<table border=\"1\" class=\"dataframe\">\n",
       "  <thead>\n",
       "    <tr style=\"text-align: right;\">\n",
       "      <th></th>\n",
       "      <th>Rating</th>\n",
       "      <th>Director</th>\n",
       "    </tr>\n",
       "    <tr>\n",
       "      <th>Title</th>\n",
       "      <th></th>\n",
       "      <th></th>\n",
       "    </tr>\n",
       "  </thead>\n",
       "  <tbody>\n",
       "    <tr>\n",
       "      <th>The Dark Knight</th>\n",
       "      <td>9.0</td>\n",
       "      <td>Christopher Nolan</td>\n",
       "    </tr>\n",
       "    <tr>\n",
       "      <th>Inception</th>\n",
       "      <td>8.8</td>\n",
       "      <td>Christopher Nolan</td>\n",
       "    </tr>\n",
       "    <tr>\n",
       "      <th>Interstellar</th>\n",
       "      <td>8.6</td>\n",
       "      <td>Christopher Nolan</td>\n",
       "    </tr>\n",
       "    <tr>\n",
       "      <th>Kimi no na wa</th>\n",
       "      <td>8.6</td>\n",
       "      <td>Makoto Shinkai</td>\n",
       "    </tr>\n",
       "    <tr>\n",
       "      <th>The Intouchables</th>\n",
       "      <td>8.6</td>\n",
       "      <td>Olivier Nakache</td>\n",
       "    </tr>\n",
       "    <tr>\n",
       "      <th>The Prestige</th>\n",
       "      <td>8.5</td>\n",
       "      <td>Christopher Nolan</td>\n",
       "    </tr>\n",
       "    <tr>\n",
       "      <th>The Departed</th>\n",
       "      <td>8.5</td>\n",
       "      <td>Martin Scorsese</td>\n",
       "    </tr>\n",
       "    <tr>\n",
       "      <th>The Dark Knight Rises</th>\n",
       "      <td>8.5</td>\n",
       "      <td>Christopher Nolan</td>\n",
       "    </tr>\n",
       "    <tr>\n",
       "      <th>Whiplash</th>\n",
       "      <td>8.5</td>\n",
       "      <td>Damien Chazelle</td>\n",
       "    </tr>\n",
       "    <tr>\n",
       "      <th>The Lives of Others</th>\n",
       "      <td>8.5</td>\n",
       "      <td>Florian Henckel von Donnersmarck</td>\n",
       "    </tr>\n",
       "  </tbody>\n",
       "</table>\n",
       "</div>"
      ],
      "text/plain": [
       "                       Rating                          Director\n",
       "Title                                                          \n",
       "The Dark Knight           9.0                 Christopher Nolan\n",
       "Inception                 8.8                 Christopher Nolan\n",
       "Interstellar              8.6                 Christopher Nolan\n",
       "Kimi no na wa             8.6                    Makoto Shinkai\n",
       "The Intouchables          8.6                   Olivier Nakache\n",
       "The Prestige              8.5                 Christopher Nolan\n",
       "The Departed              8.5                   Martin Scorsese\n",
       "The Dark Knight Rises     8.5                 Christopher Nolan\n",
       "Whiplash                  8.5                   Damien Chazelle\n",
       "The Lives of Others       8.5  Florian Henckel von Donnersmarck"
      ]
     },
     "execution_count": 27,
     "metadata": {},
     "output_type": "execute_result"
    }
   ],
   "source": [
    "top10_len"
   ]
  },
  {
   "cell_type": "code",
   "execution_count": 28,
   "metadata": {},
   "outputs": [
    {
     "data": {
      "text/plain": [
       "<matplotlib.legend.Legend at 0x199683439a0>"
      ]
     },
     "execution_count": 28,
     "metadata": {},
     "output_type": "execute_result"
    },
    {
     "data": {
      "image/png": "[encoded data removed]",
      "text/plain": [
       "<Figure size 432x288 with 1 Axes>"
      ]
     },
     "metadata": {
      "needs_background": "light"
     },
     "output_type": "display_data"
    }
   ],
   "source": [
    "sns.barplot(x='Rating',y=top10_len.index,data=top10_len,hue=\"Director\"\n",
    "           ,dodge=False) \n",
    "plt.legend(bbox_to_anchor=(1.05,1),loc=2)"
   ]
  },
  {
   "cell_type": "code",
   "execution_count": 29,
   "metadata": {},
   "outputs": [],
   "source": [
    "#Display top 10 Highest Revenue Movie Titles \n",
    "top_10=data7.nlargest(10,'Revenue (Millions)')[['Title','Revenue (Millions)']].\\\n",
    "set_index('Title')"
   ]
  },
  {
   "cell_type": "code",
   "execution_count": 30,
   "metadata": {},
   "outputs": [
    {
     "data": {
      "text/html": [
       "<div>\n",
       "<style scoped>\n",
       "    .dataframe tbody tr th:only-of-type {\n",
       "        vertical-align: middle;\n",
       "    }\n",
       "\n",
       "    .dataframe tbody tr th {\n",
       "        vertical-align: top;\n",
       "    }\n",
       "\n",
       "    .dataframe thead th {\n",
       "        text-align: right;\n",
       "    }\n",
       "</style>\n",
       "<table border=\"1\" class=\"dataframe\">\n",
       "  <thead>\n",
       "    <tr style=\"text-align: right;\">\n",
       "      <th></th>\n",
       "      <th>Revenue (Millions)</th>\n",
       "    </tr>\n",
       "    <tr>\n",
       "      <th>Title</th>\n",
       "      <th></th>\n",
       "    </tr>\n",
       "  </thead>\n",
       "  <tbody>\n",
       "    <tr>\n",
       "      <th>Star Wars: Episode VII - The Force Awakens</th>\n",
       "      <td>936.63</td>\n",
       "    </tr>\n",
       "    <tr>\n",
       "      <th>Avatar</th>\n",
       "      <td>760.51</td>\n",
       "    </tr>\n",
       "    <tr>\n",
       "      <th>Jurassic World</th>\n",
       "      <td>652.18</td>\n",
       "    </tr>\n",
       "    <tr>\n",
       "      <th>The Avengers</th>\n",
       "      <td>623.28</td>\n",
       "    </tr>\n",
       "    <tr>\n",
       "      <th>The Dark Knight</th>\n",
       "      <td>533.32</td>\n",
       "    </tr>\n",
       "    <tr>\n",
       "      <th>Rogue One</th>\n",
       "      <td>532.17</td>\n",
       "    </tr>\n",
       "    <tr>\n",
       "      <th>Finding Dory</th>\n",
       "      <td>486.29</td>\n",
       "    </tr>\n",
       "    <tr>\n",
       "      <th>Avengers: Age of Ultron</th>\n",
       "      <td>458.99</td>\n",
       "    </tr>\n",
       "    <tr>\n",
       "      <th>The Dark Knight Rises</th>\n",
       "      <td>448.13</td>\n",
       "    </tr>\n",
       "    <tr>\n",
       "      <th>The Hunger Games: Catching Fire</th>\n",
       "      <td>424.65</td>\n",
       "    </tr>\n",
       "  </tbody>\n",
       "</table>\n",
       "</div>"
      ],
      "text/plain": [
       "                                            Revenue (Millions)\n",
       "Title                                                         \n",
       "Star Wars: Episode VII - The Force Awakens              936.63\n",
       "Avatar                                                  760.51\n",
       "Jurassic World                                          652.18\n",
       "The Avengers                                            623.28\n",
       "The Dark Knight                                         533.32\n",
       "Rogue One                                               532.17\n",
       "Finding Dory                                            486.29\n",
       "Avengers: Age of Ultron                                 458.99\n",
       "The Dark Knight Rises                                   448.13\n",
       "The Hunger Games: Catching Fire                         424.65"
      ]
     },
     "execution_count": 30,
     "metadata": {},
     "output_type": "execute_result"
    }
   ],
   "source": [
    "top_10"
   ]
  },
  {
   "cell_type": "code",
   "execution_count": 31,
   "metadata": {},
   "outputs": [
    {
     "data": {
      "text/plain": [
       "Text(0.5, 1.0, 'Top 10 Highest Revenue movie titles')"
      ]
     },
     "execution_count": 31,
     "metadata": {},
     "output_type": "execute_result"
    },
    {
     "data": {
      "image/png": "[encoded data removed]",
      "text/plain": [
       "<Figure size 432x288 with 1 Axes>"
      ]
     },
     "metadata": {
      "needs_background": "light"
     },
     "output_type": "display_data"
    }
   ],
   "source": [
    "sns.barplot(x='Revenue (Millions)',y=top_10.index,data=top_10) \n",
    "plt.title(\"Top 10 Highest Revenue movie titles\")"
   ]
  },
  {
   "cell_type": "code",
   "execution_count": 32,
   "metadata": {},
   "outputs": [
    {
     "data": {
      "text/plain": [
       "Year\n",
       "2006    7.143902\n",
       "2007    7.140909\n",
       "2011    6.945614\n",
       "2012    6.933871\n",
       "2009    6.911111\n",
       "2010    6.894737\n",
       "2013    6.832143\n",
       "2014    6.822581\n",
       "2008    6.708333\n",
       "2015    6.674312\n",
       "2016    6.644444\n",
       "Name: Rating, dtype: float64"
      ]
     },
     "execution_count": 32,
     "metadata": {},
     "output_type": "execute_result"
    }
   ],
   "source": [
    "#find avg rating of movies (yearwise) \n",
    "data7.groupby('Year')['Rating'].mean().sort_values(ascending=False)"
   ]
  },
  {
   "cell_type": "code",
   "execution_count": 33,
   "metadata": {},
   "outputs": [
    {
     "data": {
      "text/plain": [
       "<AxesSubplot:xlabel='Rating', ylabel='Revenue (Millions)'>"
      ]
     },
     "execution_count": 33,
     "metadata": {},
     "output_type": "execute_result"
    },
    {
     "data": {
      "image/png": "[encoded data removed]",
      "text/plain": [
       "<Figure size 432x288 with 1 Axes>"
      ]
     },
     "metadata": {
      "needs_background": "light"
     },
     "output_type": "display_data"
    }
   ],
   "source": [
    "#does Rating effect the revenue \n",
    "sns.scatterplot(x='Rating',y='Revenue (Millions)',data=data7)"
   ]
  },
  {
   "cell_type": "code",
   "execution_count": 34,
   "metadata": {},
   "outputs": [],
   "source": [
    "#classify movies based on ratings \n",
    "#we create a function for it"
   ]
  },
  {
   "cell_type": "code",
   "execution_count": 35,
   "metadata": {},
   "outputs": [],
   "source": [
    "def rating(rate):\n",
    "    if rate>=7.0:\n",
    "        return 'Excellent' \n",
    "    elif rate>=6.0:\n",
    "        return 'Good' \n",
    "    else:\n",
    "        return 'Average'"
   ]
  },
  {
   "cell_type": "code",
   "execution_count": 36,
   "metadata": {},
   "outputs": [],
   "source": [
    "data7['Rating_category']=data7['Rating'].apply(rating)"
   ]
  },
  {
   "cell_type": "code",
   "execution_count": 37,
   "metadata": {},
   "outputs": [
    {
     "data": {
      "text/html": [
       "<div>\n",
       "<style scoped>\n",
       "    .dataframe tbody tr th:only-of-type {\n",
       "        vertical-align: middle;\n",
       "    }\n",
       "\n",
       "    .dataframe tbody tr th {\n",
       "        vertical-align: top;\n",
       "    }\n",
       "\n",
       "    .dataframe thead th {\n",
       "        text-align: right;\n",
       "    }\n",
       "</style>\n",
       "<table border=\"1\" class=\"dataframe\">\n",
       "  <thead>\n",
       "    <tr style=\"text-align: right;\">\n",
       "      <th></th>\n",
       "      <th>Rank</th>\n",
       "      <th>Title</th>\n",
       "      <th>Genre</th>\n",
       "      <th>Description</th>\n",
       "      <th>Director</th>\n",
       "      <th>Actors</th>\n",
       "      <th>Year</th>\n",
       "      <th>Runtime (Minutes)</th>\n",
       "      <th>Rating</th>\n",
       "      <th>Votes</th>\n",
       "      <th>Revenue (Millions)</th>\n",
       "      <th>Metascore</th>\n",
       "      <th>Rating_category</th>\n",
       "    </tr>\n",
       "  </thead>\n",
       "  <tbody>\n",
       "    <tr>\n",
       "      <th>0</th>\n",
       "      <td>1</td>\n",
       "      <td>Guardians of the Galaxy</td>\n",
       "      <td>Action,Adventure,Sci-Fi</td>\n",
       "      <td>A group of intergalactic criminals are forced ...</td>\n",
       "      <td>James Gunn</td>\n",
       "      <td>Chris Pratt, Vin Diesel, Bradley Cooper, Zoe S...</td>\n",
       "      <td>2014</td>\n",
       "      <td>121</td>\n",
       "      <td>8.1</td>\n",
       "      <td>757074</td>\n",
       "      <td>333.13</td>\n",
       "      <td>76.0</td>\n",
       "      <td>Excellent</td>\n",
       "    </tr>\n",
       "    <tr>\n",
       "      <th>1</th>\n",
       "      <td>2</td>\n",
       "      <td>Prometheus</td>\n",
       "      <td>Adventure,Mystery,Sci-Fi</td>\n",
       "      <td>Following clues to the origin of mankind, a te...</td>\n",
       "      <td>Ridley Scott</td>\n",
       "      <td>Noomi Rapace, Logan Marshall-Green, Michael Fa...</td>\n",
       "      <td>2012</td>\n",
       "      <td>124</td>\n",
       "      <td>7.0</td>\n",
       "      <td>485820</td>\n",
       "      <td>126.46</td>\n",
       "      <td>65.0</td>\n",
       "      <td>Excellent</td>\n",
       "    </tr>\n",
       "    <tr>\n",
       "      <th>2</th>\n",
       "      <td>3</td>\n",
       "      <td>Split</td>\n",
       "      <td>Horror,Thriller</td>\n",
       "      <td>Three girls are kidnapped by a man with a diag...</td>\n",
       "      <td>M. Night Shyamalan</td>\n",
       "      <td>James McAvoy, Anya Taylor-Joy, Haley Lu Richar...</td>\n",
       "      <td>2016</td>\n",
       "      <td>117</td>\n",
       "      <td>7.3</td>\n",
       "      <td>157606</td>\n",
       "      <td>138.12</td>\n",
       "      <td>62.0</td>\n",
       "      <td>Excellent</td>\n",
       "    </tr>\n",
       "    <tr>\n",
       "      <th>3</th>\n",
       "      <td>4</td>\n",
       "      <td>Sing</td>\n",
       "      <td>Animation,Comedy,Family</td>\n",
       "      <td>In a city of humanoid animals, a hustling thea...</td>\n",
       "      <td>Christophe Lourdelet</td>\n",
       "      <td>Matthew McConaughey,Reese Witherspoon, Seth Ma...</td>\n",
       "      <td>2016</td>\n",
       "      <td>108</td>\n",
       "      <td>7.2</td>\n",
       "      <td>60545</td>\n",
       "      <td>270.32</td>\n",
       "      <td>59.0</td>\n",
       "      <td>Excellent</td>\n",
       "    </tr>\n",
       "    <tr>\n",
       "      <th>4</th>\n",
       "      <td>5</td>\n",
       "      <td>Suicide Squad</td>\n",
       "      <td>Action,Adventure,Fantasy</td>\n",
       "      <td>A secret government agency recruits some of th...</td>\n",
       "      <td>David Ayer</td>\n",
       "      <td>Will Smith, Jared Leto, Margot Robbie, Viola D...</td>\n",
       "      <td>2016</td>\n",
       "      <td>123</td>\n",
       "      <td>6.2</td>\n",
       "      <td>393727</td>\n",
       "      <td>325.02</td>\n",
       "      <td>40.0</td>\n",
       "      <td>Good</td>\n",
       "    </tr>\n",
       "  </tbody>\n",
       "</table>\n",
       "</div>"
      ],
      "text/plain": [
       "   Rank                    Title                     Genre  \\\n",
       "0     1  Guardians of the Galaxy   Action,Adventure,Sci-Fi   \n",
       "1     2               Prometheus  Adventure,Mystery,Sci-Fi   \n",
       "2     3                    Split           Horror,Thriller   \n",
       "3     4                     Sing   Animation,Comedy,Family   \n",
       "4     5            Suicide Squad  Action,Adventure,Fantasy   \n",
       "\n",
       "                                         Description              Director  \\\n",
       "0  A group of intergalactic criminals are forced ...            James Gunn   \n",
       "1  Following clues to the origin of mankind, a te...          Ridley Scott   \n",
       "2  Three girls are kidnapped by a man with a diag...    M. Night Shyamalan   \n",
       "3  In a city of humanoid animals, a hustling thea...  Christophe Lourdelet   \n",
       "4  A secret government agency recruits some of th...            David Ayer   \n",
       "\n",
       "                                              Actors  Year  Runtime (Minutes)  \\\n",
       "0  Chris Pratt, Vin Diesel, Bradley Cooper, Zoe S...  2014                121   \n",
       "1  Noomi Rapace, Logan Marshall-Green, Michael Fa...  2012                124   \n",
       "2  James McAvoy, Anya Taylor-Joy, Haley Lu Richar...  2016                117   \n",
       "3  Matthew McConaughey,Reese Witherspoon, Seth Ma...  2016                108   \n",
       "4  Will Smith, Jared Leto, Margot Robbie, Viola D...  2016                123   \n",
       "\n",
       "   Rating   Votes  Revenue (Millions)  Metascore Rating_category  \n",
       "0     8.1  757074              333.13       76.0       Excellent  \n",
       "1     7.0  485820              126.46       65.0       Excellent  \n",
       "2     7.3  157606              138.12       62.0       Excellent  \n",
       "3     7.2   60545              270.32       59.0       Excellent  \n",
       "4     6.2  393727              325.02       40.0            Good  "
      ]
     },
     "execution_count": 37,
     "metadata": {},
     "output_type": "execute_result"
    }
   ],
   "source": [
    "data7.head()"
   ]
  },
  {
   "cell_type": "code",
   "execution_count": 38,
   "metadata": {},
   "outputs": [
    {
     "data": {
      "text/plain": [
       "277"
      ]
     },
     "execution_count": 38,
     "metadata": {},
     "output_type": "execute_result"
    }
   ],
   "source": [
    "#count no of action movies \n",
    "len(data7[data7['Genre'].str.contains('Action',case=False)])"
   ]
  },
  {
   "cell_type": "code",
   "execution_count": 39,
   "metadata": {},
   "outputs": [],
   "source": [
    "#find unique values from Genre \n",
    "list1=[] \n",
    "for value in data7['Genre']: \n",
    "    list1.append(value.split(','))"
   ]
  },
  {
   "cell_type": "code",
   "execution_count": 40,
   "metadata": {},
   "outputs": [
    {
     "data": {
      "text/plain": [
       "[['Action', 'Adventure', 'Sci-Fi'],\n",
       " ['Adventure', 'Mystery', 'Sci-Fi'],\n",
       " ['Horror', 'Thriller'],\n",
       " ['Animation', 'Comedy', 'Family'],\n",
       " ['Action', 'Adventure', 'Fantasy'],\n",
       " ['Action', 'Adventure', 'Fantasy'],\n",
       " ['Comedy', 'Drama', 'Music'],\n",
       " ['Action', 'Adventure', 'Biography'],\n",
       " ['Adventure', 'Drama', 'Romance'],\n",
       " ['Adventure', 'Family', 'Fantasy'],\n",
       " ['Biography', 'Drama', 'History'],\n",
       " ['Action', 'Adventure', 'Sci-Fi'],\n",
       " ['Animation', 'Adventure', 'Comedy'],\n",
       " ['Action', 'Comedy', 'Drama'],\n",
       " ['Animation', 'Adventure', 'Comedy'],\n",
       " ['Biography', 'Drama', 'History'],\n",
       " ['Action', 'Thriller'],\n",
       " ['Biography', 'Drama'],\n",
       " ['Drama', 'Mystery', 'Sci-Fi'],\n",
       " ['Adventure', 'Drama', 'Thriller'],\n",
       " ['Drama'],\n",
       " ['Animation', 'Adventure', 'Comedy'],\n",
       " ['Action', 'Adventure', 'Sci-Fi'],\n",
       " ['Comedy'],\n",
       " ['Action', 'Adventure', 'Drama'],\n",
       " ['Comedy'],\n",
       " ['Drama', 'Thriller'],\n",
       " ['Action', 'Adventure', 'Sci-Fi'],\n",
       " ['Action', 'Adventure', 'Comedy'],\n",
       " ['Action', 'Horror', 'Sci-Fi'],\n",
       " ['Action', 'Adventure', 'Sci-Fi'],\n",
       " ['Adventure', 'Drama', 'Sci-Fi'],\n",
       " ['Action', 'Adventure', 'Fantasy'],\n",
       " ['Action', 'Adventure', 'Western'],\n",
       " ['Animation', 'Adventure', 'Comedy'],\n",
       " ['Drama'],\n",
       " ['Biography', 'Drama', 'History'],\n",
       " ['Drama'],\n",
       " ['Action', 'Adventure', 'Fantasy'],\n",
       " ['Drama', 'Thriller'],\n",
       " ['Action', 'Adventure', 'Sci-Fi'],\n",
       " ['Action', 'Adventure', 'Fantasy'],\n",
       " ['Action', 'Adventure', 'Fantasy'],\n",
       " ['Comedy', 'Drama'],\n",
       " ['Action', 'Crime', 'Thriller'],\n",
       " ['Action', 'Crime', 'Drama'],\n",
       " ['Adventure', 'Drama', 'History'],\n",
       " ['Crime', 'Horror', 'Thriller'],\n",
       " ['Drama', 'Romance'],\n",
       " ['Comedy', 'Drama', 'Romance'],\n",
       " ['Biography', 'Drama'],\n",
       " ['Action', 'Adventure', 'Sci-Fi'],\n",
       " ['Crime', 'Drama', 'Mystery'],\n",
       " ['Drama', 'Romance', 'Thriller'],\n",
       " ['Drama', 'Mystery', 'Sci-Fi'],\n",
       " ['Action', 'Adventure', 'Comedy'],\n",
       " ['Drama', 'History', 'Thriller'],\n",
       " ['Action', 'Adventure', 'Sci-Fi'],\n",
       " ['Drama'],\n",
       " ['Action', 'Drama', 'Thriller'],\n",
       " ['Action', 'Drama', 'Romance'],\n",
       " ['Drama', 'Fantasy'],\n",
       " ['Drama', 'Romance'],\n",
       " ['Animation', 'Adventure', 'Comedy'],\n",
       " ['Action', 'Adventure', 'Fantasy'],\n",
       " ['Action', 'Sci-Fi'],\n",
       " ['Adventure', 'Drama', 'War'],\n",
       " ['Action', 'Adventure', 'Fantasy'],\n",
       " ['Action', 'Comedy', 'Fantasy'],\n",
       " ['Action', 'Adventure', 'Sci-Fi'],\n",
       " ['Comedy', 'Drama'],\n",
       " ['Biography', 'Comedy', 'Crime'],\n",
       " ['Crime', 'Drama', 'Mystery'],\n",
       " ['Action', 'Crime', 'Thriller'],\n",
       " ['Action', 'Adventure', 'Sci-Fi'],\n",
       " ['Crime', 'Drama'],\n",
       " ['Action', 'Adventure', 'Fantasy'],\n",
       " ['Crime', 'Drama', 'Mystery'],\n",
       " ['Action', 'Crime', 'Drama'],\n",
       " ['Crime', 'Drama', 'Mystery'],\n",
       " ['Action', 'Adventure', 'Fantasy'],\n",
       " ['Drama'],\n",
       " ['Comedy', 'Crime', 'Drama'],\n",
       " ['Action', 'Adventure', 'Sci-Fi'],\n",
       " ['Action', 'Comedy', 'Crime'],\n",
       " ['Animation', 'Drama', 'Fantasy'],\n",
       " ['Horror', 'Mystery', 'Sci-Fi'],\n",
       " ['Drama', 'Mystery', 'Thriller'],\n",
       " ['Crime', 'Drama', 'Thriller'],\n",
       " ['Biography', 'Crime', 'Drama'],\n",
       " ['Action', 'Adventure', 'Fantasy'],\n",
       " ['Adventure', 'Drama', 'Sci-Fi'],\n",
       " ['Action', 'Adventure', 'Comedy'],\n",
       " ['Crime', 'Drama', 'Thriller'],\n",
       " ['Comedy'],\n",
       " ['Action', 'Adventure', 'Drama'],\n",
       " ['Drama', 'Mystery', 'Sci-Fi'],\n",
       " ['Action', 'Horror', 'Thriller'],\n",
       " ['Biography', 'Drama', 'History'],\n",
       " ['Action', 'Fantasy', 'War'],\n",
       " ['Adventure', 'Drama', 'Fantasy'],\n",
       " ['Comedy'],\n",
       " ['Horror', 'Thriller'],\n",
       " ['Drama', 'Horror', 'Mystery'],\n",
       " ['Animation', 'Adventure', 'Comedy'],\n",
       " ['Adventure', 'Drama', 'Family'],\n",
       " ['Adventure', 'Mystery', 'Sci-Fi'],\n",
       " ['Adventure', 'Comedy', 'Romance'],\n",
       " ['Action', 'Thriller'],\n",
       " ['Adventure', 'Drama', 'Family'],\n",
       " ['Action', 'Adventure', 'Sci-Fi'],\n",
       " ['Adventure', 'Crime', 'Mystery'],\n",
       " ['Comedy', 'Family', 'Musical'],\n",
       " ['Adventure', 'Drama', 'Thriller'],\n",
       " ['Drama'],\n",
       " ['Adventure', 'Comedy', 'Drama'],\n",
       " ['Drama', 'Horror', 'Thriller'],\n",
       " ['Drama', 'Music'],\n",
       " ['Action', 'Crime', 'Thriller'],\n",
       " ['Crime', 'Drama', 'Thriller'],\n",
       " ['Crime', 'Drama', 'Thriller'],\n",
       " ['Drama', 'Romance'],\n",
       " ['Mystery', 'Thriller'],\n",
       " ['Action', 'Adventure', 'Sci-Fi'],\n",
       " ['Comedy', 'Family'],\n",
       " ['Biography', 'Comedy', 'Drama'],\n",
       " ['Drama'],\n",
       " ['Drama', 'Western'],\n",
       " ['Drama', 'Mystery', 'Romance'],\n",
       " ['Comedy', 'Drama'],\n",
       " ['Action', 'Drama', 'Mystery'],\n",
       " ['Comedy'],\n",
       " ['Action', 'Adventure', 'Crime'],\n",
       " ['Adventure', 'Family', 'Fantasy'],\n",
       " ['Adventure', 'Sci-Fi', 'Thriller'],\n",
       " ['Drama'],\n",
       " ['Action', 'Crime', 'Drama'],\n",
       " ['Action', 'Horror', 'Sci-Fi'],\n",
       " ['Action', 'Adventure', 'Sci-Fi'],\n",
       " ['Comedy', 'Drama', 'Romance'],\n",
       " ['Action', 'Comedy', 'Fantasy'],\n",
       " ['Action', 'Comedy', 'Mystery'],\n",
       " ['Action', 'Comedy', 'Crime'],\n",
       " ['Action', 'Adventure', 'Sci-Fi'],\n",
       " ['Action', 'Adventure', 'Crime'],\n",
       " ['Action', 'Adventure', 'Thriller'],\n",
       " ['Drama', 'Fantasy', 'Romance'],\n",
       " ['Action', 'Adventure', 'Comedy'],\n",
       " ['Biography', 'Drama', 'History'],\n",
       " ['Action', 'Drama', 'History'],\n",
       " ['Action', 'Adventure', 'Thriller'],\n",
       " ['Crime', 'Drama', 'Thriller'],\n",
       " ['Animation', 'Adventure', 'Family'],\n",
       " ['Drama', 'Romance', 'Sci-Fi'],\n",
       " ['Animation', 'Adventure', 'Comedy'],\n",
       " ['Action', 'Adventure', 'Family'],\n",
       " ['Action', 'Adventure', 'Drama'],\n",
       " ['Action', 'Comedy'],\n",
       " ['Horror', 'Mystery', 'Thriller'],\n",
       " ['Action', 'Adventure', 'Comedy'],\n",
       " ['Comedy', 'Romance'],\n",
       " ['Horror', 'Mystery'],\n",
       " ['Drama', 'Family', 'Fantasy'],\n",
       " ['Drama', 'Thriller'],\n",
       " ['Drama', 'War'],\n",
       " ['Drama', 'Fantasy', 'Horror'],\n",
       " ['Crime', 'Drama'],\n",
       " ['Comedy', 'Drama', 'Romance'],\n",
       " ['Drama', 'Romance'],\n",
       " ['Crime', 'Drama', 'History'],\n",
       " ['Horror', 'Sci-Fi', 'Thriller'],\n",
       " ['Action', 'Drama', 'Sport'],\n",
       " ['Action', 'Adventure', 'Sci-Fi'],\n",
       " ['Adventure', 'Biography', 'Drama'],\n",
       " ['Biography', 'Drama', 'Thriller'],\n",
       " ['Action', 'Comedy', 'Crime'],\n",
       " ['Action', 'Adventure', 'Sci-Fi'],\n",
       " ['Drama', 'Fantasy', 'Horror'],\n",
       " ['Biography', 'Drama', 'Thriller'],\n",
       " ['Action', 'Adventure', 'Sci-Fi'],\n",
       " ['Action', 'Adventure', 'Mystery'],\n",
       " ['Action', 'Adventure', 'Sci-Fi'],\n",
       " ['Drama', 'Horror'],\n",
       " ['Comedy', 'Drama', 'Romance'],\n",
       " ['Comedy', 'Romance'],\n",
       " ['Action', 'Adventure', 'Drama'],\n",
       " ['Drama'],\n",
       " ['Action', 'Adventure', 'Sci-Fi'],\n",
       " ['Action', 'Adventure', 'Fantasy'],\n",
       " ['Action', 'Adventure', 'Fantasy'],\n",
       " ['Action', 'Adventure', 'Sci-Fi'],\n",
       " ['Action', 'Adventure', 'Comedy'],\n",
       " ['Action', 'Comedy'],\n",
       " ['Action', 'Adventure', 'Sci-Fi'],\n",
       " ['Animation', 'Adventure', 'Comedy'],\n",
       " ['Horror', 'Mystery'],\n",
       " ['Crime', 'Drama', 'Mystery'],\n",
       " ['Comedy', 'Crime'],\n",
       " ['Drama'],\n",
       " ['Comedy', 'Drama', 'Romance'],\n",
       " ['Action', 'Adventure', 'Sci-Fi'],\n",
       " ['Action', 'Adventure', 'Family'],\n",
       " ['Drama', 'Fantasy', 'War'],\n",
       " ['Crime', 'Drama', 'Thriller'],\n",
       " ['Action', 'Adventure', 'Drama'],\n",
       " ['Action', 'Adventure', 'Thriller'],\n",
       " ['Action', 'Adventure', 'Drama'],\n",
       " ['Drama', 'Romance'],\n",
       " ['Biography', 'Drama', 'History'],\n",
       " ['Drama', 'Horror', 'Thriller'],\n",
       " ['Adventure', 'Comedy', 'Drama'],\n",
       " ['Action', 'Adventure', 'Romance'],\n",
       " ['Action', 'Drama', 'War'],\n",
       " ['Animation', 'Adventure', 'Comedy'],\n",
       " ['Animation', 'Adventure', 'Comedy'],\n",
       " ['Action', 'Adventure', 'Sci-Fi'],\n",
       " ['Adventure', 'Family', 'Fantasy'],\n",
       " ['Drama', 'Musical', 'Romance'],\n",
       " ['Drama', 'Sci-Fi', 'Thriller'],\n",
       " ['Comedy', 'Drama'],\n",
       " ['Action', 'Comedy', 'Crime'],\n",
       " ['Biography', 'Comedy', 'Drama'],\n",
       " ['Comedy', 'Drama', 'Romance'],\n",
       " ['Drama', 'Thriller'],\n",
       " ['Biography', 'Drama', 'History'],\n",
       " ['Action', 'Adventure', 'Sci-Fi'],\n",
       " ['Horror', 'Mystery', 'Thriller'],\n",
       " ['Comedy'],\n",
       " ['Action', 'Adventure', 'Sci-Fi'],\n",
       " ['Action', 'Drama', 'Sci-Fi'],\n",
       " ['Horror'],\n",
       " ['Drama', 'Thriller'],\n",
       " ['Comedy', 'Drama', 'Romance'],\n",
       " ['Drama', 'Thriller'],\n",
       " ['Comedy', 'Drama'],\n",
       " ['Drama'],\n",
       " ['Action', 'Adventure', 'Comedy'],\n",
       " ['Drama', 'Horror', 'Thriller'],\n",
       " ['Comedy'],\n",
       " ['Drama', 'Sci-Fi'],\n",
       " ['Action', 'Adventure', 'Sci-Fi'],\n",
       " ['Action', 'Adventure', 'Thriller'],\n",
       " ['Adventure', 'Fantasy'],\n",
       " ['Action', 'Comedy', 'Crime'],\n",
       " ['Comedy', 'Drama', 'Music'],\n",
       " ['Action', 'Adventure', 'Mystery'],\n",
       " ['Action', 'Comedy', 'Crime'],\n",
       " ['Crime', 'Drama', 'History'],\n",
       " ['Comedy'],\n",
       " ['Action', 'Adventure', 'Sci-Fi'],\n",
       " ['Crime', 'Mystery', 'Thriller'],\n",
       " ['Action', 'Adventure', 'Crime'],\n",
       " ['Biography', 'Drama', 'Romance'],\n",
       " ['Action', 'Adventure'],\n",
       " ['Action', 'Fantasy'],\n",
       " ['Action', 'Comedy'],\n",
       " ['Action', 'Adventure', 'Sci-Fi'],\n",
       " ['Action', 'Comedy', 'Crime'],\n",
       " ['Action', 'Drama', 'Horror'],\n",
       " ['Comedy', 'Music', 'Romance'],\n",
       " ['Comedy'],\n",
       " ['Action', 'Adventure', 'Fantasy'],\n",
       " ['Drama', 'Romance'],\n",
       " ['Animation', 'Adventure', 'Comedy'],\n",
       " ['Comedy', 'Drama'],\n",
       " ['Biography', 'Crime', 'Drama'],\n",
       " ['Drama', 'History'],\n",
       " ['Action', 'Crime', 'Thriller'],\n",
       " ['Action', 'Biography', 'Drama'],\n",
       " ['Horror'],\n",
       " ['Comedy', 'Romance'],\n",
       " ['Comedy', 'Romance'],\n",
       " ['Comedy', 'Crime', 'Drama'],\n",
       " ['Adventure', 'Family', 'Fantasy'],\n",
       " ['Action', 'Crime', 'Thriller'],\n",
       " ['Comedy', 'Romance'],\n",
       " ['Biography', 'Drama', 'Sport'],\n",
       " ['Drama', 'Romance'],\n",
       " ['Drama', 'Horror'],\n",
       " ['Adventure', 'Fantasy'],\n",
       " ['Adventure', 'Family', 'Fantasy'],\n",
       " ['Action', 'Drama', 'Sci-Fi'],\n",
       " ['Action', 'Adventure', 'Sci-Fi'],\n",
       " ['Comedy', 'Horror', 'Thriller'],\n",
       " ['Action', 'Crime', 'Thriller'],\n",
       " ['Crime', 'Drama', 'Music'],\n",
       " ['Drama'],\n",
       " ['Action', 'Crime', 'Thriller'],\n",
       " ['Action', 'Sci-Fi', 'Thriller'],\n",
       " ['Biography', 'Drama'],\n",
       " ['Action', 'Adventure', 'Fantasy'],\n",
       " ['Drama', 'Horror', 'Sci-Fi'],\n",
       " ['Biography', 'Comedy', 'Drama'],\n",
       " ['Crime', 'Horror', 'Thriller'],\n",
       " ['Crime', 'Drama', 'Mystery'],\n",
       " ['Animation', 'Adventure', 'Comedy'],\n",
       " ['Action', 'Biography', 'Drama'],\n",
       " ['Biography', 'Drama'],\n",
       " ['Biography', 'Drama', 'History'],\n",
       " ['Action', 'Biography', 'Drama'],\n",
       " ['Comedy', 'Drama', 'Romance'],\n",
       " ['Drama', 'Romance'],\n",
       " ['Comedy', 'Romance'],\n",
       " ['Action', 'Crime', 'Thriller'],\n",
       " ['Action', 'Crime', 'Drama'],\n",
       " ['Action', 'Drama', 'Thriller'],\n",
       " ['Adventure', 'Family', 'Fantasy'],\n",
       " ['Action', 'Adventure'],\n",
       " ['Action', 'Adventure', 'Romance'],\n",
       " ['Adventure', 'Family', 'Fantasy'],\n",
       " ['Crime', 'Drama'],\n",
       " ['Comedy', 'Horror'],\n",
       " ['Comedy', 'Fantasy', 'Romance'],\n",
       " ['Drama'],\n",
       " ['Comedy', 'Drama'],\n",
       " ['Comedy', 'Drama', 'Romance'],\n",
       " ['Adventure', 'Sci-Fi', 'Thriller'],\n",
       " ['Action', 'Adventure', 'Fantasy'],\n",
       " ['Biography', 'Drama', 'Romance'],\n",
       " ['Comedy', 'Fantasy'],\n",
       " ['Comedy', 'Drama', 'Fantasy'],\n",
       " ['Comedy'],\n",
       " ['Horror', 'Thriller'],\n",
       " ['Action', 'Adventure', 'Sci-Fi'],\n",
       " ['Adventure', 'Comedy', 'Horror'],\n",
       " ['Comedy', 'Mystery'],\n",
       " ['Drama'],\n",
       " ['Adventure', 'Drama', 'Fantasy'],\n",
       " ['Action', 'Adventure'],\n",
       " ['Action', 'Adventure', 'Drama'],\n",
       " ['Action', 'Drama', 'Sci-Fi'],\n",
       " ['Action', 'Mystery', 'Sci-Fi'],\n",
       " ['Action', 'Crime', 'Drama'],\n",
       " ['Action', 'Crime', 'Fantasy'],\n",
       " ['Biography', 'Comedy', 'Drama'],\n",
       " ['Action', 'Crime', 'Thriller'],\n",
       " ['Biography', 'Crime', 'Drama'],\n",
       " ['Drama', 'Sport'],\n",
       " ['Adventure', 'Comedy', 'Drama'],\n",
       " ['Action', 'Adventure', 'Thriller'],\n",
       " ['Comedy', 'Fantasy', 'Horror'],\n",
       " ['Drama', 'Sport'],\n",
       " ['Drama', 'History', 'Thriller'],\n",
       " ['Animation', 'Action', 'Adventure'],\n",
       " ['Action', 'Adventure', 'Drama'],\n",
       " ['Action', 'Comedy', 'Family'],\n",
       " ['Action', 'Adventure', 'Drama'],\n",
       " ['Action', 'Adventure', 'Sci-Fi'],\n",
       " ['Action', 'Adventure', 'Sci-Fi'],\n",
       " ['Action', 'Comedy'],\n",
       " ['Action', 'Crime', 'Drama'],\n",
       " ['Biography', 'Drama'],\n",
       " ['Comedy'],\n",
       " ['Drama', 'Fantasy', 'Romance'],\n",
       " ['Action', 'Adventure', 'Sci-Fi'],\n",
       " ['Comedy'],\n",
       " ['Comedy', 'Drama'],\n",
       " ['Animation', 'Action', 'Adventure'],\n",
       " ['Animation', 'Adventure', 'Comedy'],\n",
       " ['Drama', 'Romance'],\n",
       " ['Drama', 'Mystery', 'Thriller'],\n",
       " ['Drama', 'History', 'Thriller'],\n",
       " ['Animation', 'Adventure', 'Comedy'],\n",
       " ['Action', 'Adventure', 'Sci-Fi'],\n",
       " ['Adventure', 'Comedy'],\n",
       " ['Action', 'Thriller'],\n",
       " ['Comedy', 'Music'],\n",
       " ['Animation', 'Adventure', 'Comedy'],\n",
       " ['Action', 'Adventure', 'Crime'],\n",
       " ['Comedy', 'Drama', 'Horror'],\n",
       " ['Adventure', 'Family', 'Fantasy'],\n",
       " ['Drama'],\n",
       " ['Action', 'Drama', 'Thriller'],\n",
       " ['Drama'],\n",
       " ['Action', 'Horror', 'Romance'],\n",
       " ['Action', 'Drama', 'Fantasy'],\n",
       " ['Action', 'Crime', 'Drama'],\n",
       " ['Drama', 'Fantasy', 'Romance'],\n",
       " ['Action', 'Crime', 'Thriller'],\n",
       " ['Action', 'Mystery', 'Thriller'],\n",
       " ['Comedy', 'Drama'],\n",
       " ['Comedy'],\n",
       " ['Action', 'Adventure', 'Horror'],\n",
       " ['Action', 'Adventure', 'Thriller'],\n",
       " ['Drama', 'Romance'],\n",
       " ['Drama', 'Thriller'],\n",
       " ['Action', 'Comedy', 'Crime'],\n",
       " ['Adventure', 'Family', 'Fantasy'],\n",
       " ['Drama', 'Romance'],\n",
       " ['Animation', 'Family', 'Fantasy'],\n",
       " ['Drama', 'Romance'],\n",
       " ['Action', 'Sci-Fi'],\n",
       " ['Adventure', 'Comedy', 'Drama'],\n",
       " ['Animation', 'Action', 'Adventure'],\n",
       " ['Drama', 'Horror'],\n",
       " ['Action', 'Adventure', 'Sci-Fi'],\n",
       " ['Comedy', 'Drama'],\n",
       " ['Action', 'Horror', 'Mystery'],\n",
       " ['Action', 'Thriller'],\n",
       " ['Action', 'Adventure', 'Sci-Fi'],\n",
       " ['Drama'],\n",
       " ['Comedy', 'Drama', 'Romance'],\n",
       " ['Comedy', 'Crime'],\n",
       " ['Comedy', 'Romance'],\n",
       " ['Drama', 'Romance'],\n",
       " ['Crime', 'Drama', 'Thriller'],\n",
       " ['Horror', 'Mystery', 'Thriller'],\n",
       " ['Biography', 'Drama'],\n",
       " ['Adventure', 'Comedy', 'Family'],\n",
       " ['Action', 'Adventure', 'Crime'],\n",
       " ['Action', 'Crime', 'Mystery'],\n",
       " ['Mystery', 'Thriller'],\n",
       " ['Action', 'Sci-Fi', 'Thriller'],\n",
       " ['Action', 'Comedy', 'Crime'],\n",
       " ['Biography', 'Crime', 'Drama'],\n",
       " ['Biography', 'Drama', 'History'],\n",
       " ['Action', 'Adventure', 'Sci-Fi'],\n",
       " ['Adventure', 'Family', 'Fantasy'],\n",
       " ['Biography', 'Drama', 'History'],\n",
       " ['Biography', 'Comedy', 'Drama'],\n",
       " ['Drama', 'Thriller'],\n",
       " ['Comedy', 'Drama', 'Romance'],\n",
       " ['Drama', 'Romance', 'Sci-Fi'],\n",
       " ['Action', 'Crime', 'Drama'],\n",
       " ['Adventure', 'Comedy', 'Drama'],\n",
       " ['Comedy', 'Drama', 'Family'],\n",
       " ['Drama', 'Romance', 'Thriller'],\n",
       " ['Comedy', 'Crime', 'Drama'],\n",
       " ['Animation', 'Comedy', 'Family'],\n",
       " ['Drama', 'Horror', 'Sci-Fi'],\n",
       " ['Action', 'Adventure', 'Drama'],\n",
       " ['Action', 'Horror', 'Sci-Fi'],\n",
       " ['Action', 'Crime', 'Sport'],\n",
       " ['Drama', 'Horror', 'Sci-Fi'],\n",
       " ['Drama', 'Horror', 'Sci-Fi'],\n",
       " ['Action', 'Adventure', 'Comedy'],\n",
       " ['Mystery', 'Sci-Fi', 'Thriller'],\n",
       " ['Crime', 'Drama', 'Thriller'],\n",
       " ['Animation', 'Adventure', 'Comedy'],\n",
       " ['Action', 'Sci-Fi', 'Thriller'],\n",
       " ['Drama', 'Romance'],\n",
       " ['Comedy', 'Drama', 'Music'],\n",
       " ['Crime', 'Drama', 'Thriller'],\n",
       " ['Comedy', 'Drama', 'Romance'],\n",
       " ['Comedy', 'Romance'],\n",
       " ['Drama', 'Sci-Fi', 'Thriller'],\n",
       " ['Drama', 'War'],\n",
       " ['Action', 'Crime', 'Drama'],\n",
       " ['Sci-Fi', 'Thriller'],\n",
       " ['Adventure', 'Drama', 'Horror'],\n",
       " ['Comedy', 'Drama', 'Romance'],\n",
       " ['Action', 'Adventure', 'Drama'],\n",
       " ['Action', 'Crime', 'Drama'],\n",
       " ['Adventure', 'Fantasy'],\n",
       " ['Drama', 'Romance'],\n",
       " ['Biography', 'History', 'Thriller'],\n",
       " ['Crime', 'Drama', 'Thriller'],\n",
       " ['Action', 'Drama', 'History'],\n",
       " ['Crime', 'Drama', 'Thriller'],\n",
       " ['Action', 'Biography', 'Drama'],\n",
       " ['Adventure', 'Horror'],\n",
       " ['Action', 'Adventure', 'Sci-Fi'],\n",
       " ['Action', 'Adventure', 'Mystery'],\n",
       " ['Comedy', 'Drama', 'Romance'],\n",
       " ['Horror', 'Thriller'],\n",
       " ['Action', 'Sci-Fi', 'Thriller'],\n",
       " ['Biography', 'Drama'],\n",
       " ['Action', 'Crime', 'Drama'],\n",
       " ['Action', 'Crime', 'Mystery'],\n",
       " ['Action', 'Adventure', 'Comedy'],\n",
       " ['Mystery', 'Thriller'],\n",
       " ['Mystery', 'Sci-Fi', 'Thriller'],\n",
       " ['Drama', 'Mystery', 'Sci-Fi'],\n",
       " ['Comedy', 'Drama'],\n",
       " ['Adventure', 'Family', 'Fantasy'],\n",
       " ['Biography', 'Drama', 'Sport'],\n",
       " ['Comedy', 'Drama', 'Romance'],\n",
       " ['Biography', 'Drama', 'Romance'],\n",
       " ['Action', 'Adventure', 'Sci-Fi'],\n",
       " ['Mystery', 'Thriller'],\n",
       " ['Mystery', 'Thriller'],\n",
       " ['Action', 'Drama', 'Fantasy'],\n",
       " ['Action', 'Adventure', 'Biography'],\n",
       " ['Adventure', 'Comedy', 'Sci-Fi'],\n",
       " ['Action', 'Adventure', 'Thriller'],\n",
       " ['Fantasy', 'Horror'],\n",
       " ['Horror', 'Mystery'],\n",
       " ['Animation', 'Adventure', 'Comedy'],\n",
       " ['Action', 'Adventure', 'Drama'],\n",
       " ['Adventure', 'Family', 'Fantasy'],\n",
       " ['Action', 'Adventure', 'Sci-Fi'],\n",
       " ['Comedy', 'Drama'],\n",
       " ['Comedy', 'Drama'],\n",
       " ['Crime', 'Drama', 'Thriller'],\n",
       " ['Comedy', 'Romance'],\n",
       " ['Animation', 'Comedy', 'Family'],\n",
       " ['Comedy', 'Drama'],\n",
       " ['Comedy', 'Drama'],\n",
       " ['Biography', 'Drama', 'Sport'],\n",
       " ['Action', 'Adventure', 'Fantasy'],\n",
       " ['Action', 'Drama', 'History'],\n",
       " ['Action', 'Adventure', 'Sci-Fi'],\n",
       " ['Action', 'Adventure', 'Mystery'],\n",
       " ['Crime', 'Drama', 'Mystery'],\n",
       " ['Action'],\n",
       " ['Comedy', 'Romance'],\n",
       " ['Comedy', 'Drama', 'Romance'],\n",
       " ['Biography', 'Drama', 'Sport'],\n",
       " ['Action', 'Fantasy', 'Thriller'],\n",
       " ['Biography', 'Drama', 'Sport'],\n",
       " ['Action', 'Drama', 'Fantasy'],\n",
       " ['Adventure', 'Sci-Fi', 'Thriller'],\n",
       " ['Animation', 'Adventure', 'Comedy'],\n",
       " ['Drama', 'Mystery', 'Thriller'],\n",
       " ['Drama', 'Romance'],\n",
       " ['Crime', 'Drama', 'Mystery'],\n",
       " ['Comedy', 'Romance', 'Sport'],\n",
       " ['Comedy', 'Family'],\n",
       " ['Drama', 'Horror', 'Mystery'],\n",
       " ['Action', 'Drama', 'Sport'],\n",
       " ['Action', 'Adventure', 'Comedy'],\n",
       " ['Drama', 'Mystery', 'Sci-Fi'],\n",
       " ['Animation', 'Action', 'Comedy'],\n",
       " ['Action', 'Crime', 'Drama'],\n",
       " ['Action', 'Crime', 'Drama'],\n",
       " ['Animation', 'Action', 'Adventure'],\n",
       " ['Crime', 'Drama'],\n",
       " ['Comedy', 'Crime'],\n",
       " ['Drama'],\n",
       " ['Action', 'Adventure', 'Fantasy'],\n",
       " ['Drama', 'Fantasy', 'Romance'],\n",
       " ['Comedy', 'Drama'],\n",
       " ['Drama', 'Fantasy', 'Thriller'],\n",
       " ['Biography', 'Crime', 'Drama'],\n",
       " ['Comedy', 'Drama', 'Romance'],\n",
       " ['Action', 'Crime', 'Drama'],\n",
       " ['Sci-Fi'],\n",
       " ['Action', 'Comedy', 'Romance'],\n",
       " ['Adventure', 'Comedy', 'Drama'],\n",
       " ['Comedy', 'Crime', 'Drama'],\n",
       " ['Action', 'Fantasy', 'Horror'],\n",
       " ['Drama', 'Horror'],\n",
       " ['Horror'],\n",
       " ['Action', 'Thriller'],\n",
       " ['Action', 'Adventure', 'Mystery'],\n",
       " ['Action', 'Adventure', 'Fantasy'],\n",
       " ['Adventure', 'Comedy', 'Family'],\n",
       " ['Comedy', 'Drama', 'Romance'],\n",
       " ['Comedy'],\n",
       " ['Comedy', 'Drama', 'Horror'],\n",
       " ['Comedy', 'Romance'],\n",
       " ['Mystery', 'Romance', 'Sci-Fi'],\n",
       " ['Crime', 'Drama'],\n",
       " ['Drama', 'Horror', 'Mystery'],\n",
       " ['Comedy'],\n",
       " ['Biography', 'Drama'],\n",
       " ['Comedy', 'Drama', 'Thriller'],\n",
       " ['Drama', 'History', 'War'],\n",
       " ['Comedy', 'Drama'],\n",
       " ['Action', 'Comedy', 'Fantasy'],\n",
       " ['Drama', 'Horror', 'Musical'],\n",
       " ['Horror', 'Mystery', 'Thriller'],\n",
       " ['Comedy', 'Music'],\n",
       " ['Biography', 'Crime', 'Drama'],\n",
       " ['Drama'],\n",
       " ['Action', 'Adventure', 'Comedy'],\n",
       " ['Crime', 'Drama', 'Mystery'],\n",
       " ['Drama'],\n",
       " ['Action', 'Comedy', 'Crime'],\n",
       " ['Comedy', 'Drama', 'Romance'],\n",
       " ['Crime', 'Drama', 'Mystery'],\n",
       " ['Action', 'Comedy', 'Crime'],\n",
       " ['Drama'],\n",
       " ['Drama', 'Romance'],\n",
       " ['Crime', 'Drama', 'Mystery'],\n",
       " ['Adventure', 'Comedy', 'Romance'],\n",
       " ['Comedy', 'Crime', 'Drama'],\n",
       " ['Adventure', 'Drama', 'Thriller'],\n",
       " ['Crime', 'Drama', 'Thriller'],\n",
       " ['Drama', 'History', 'Thriller'],\n",
       " ['Action', 'Adventure', 'Sci-Fi'],\n",
       " ['Horror'],\n",
       " ['Action', 'Crime', 'Mystery'],\n",
       " ['Comedy', 'Romance'],\n",
       " ['Comedy'],\n",
       " ['Action', 'Drama', 'Thriller'],\n",
       " ['Action', 'Adventure', 'Sci-Fi'],\n",
       " ['Drama', 'Mystery', 'Thriller'],\n",
       " ['Comedy', 'Drama', 'Romance'],\n",
       " ['Action', 'Fantasy', 'Horror'],\n",
       " ['Drama', 'Romance'],\n",
       " ['Biography', 'Drama'],\n",
       " ['Biography', 'Drama'],\n",
       " ['Action', 'Adventure', 'Sci-Fi'],\n",
       " ['Animation', 'Adventure', 'Comedy'],\n",
       " ['Drama', 'Mystery', 'Thriller'],\n",
       " ['Action', 'Horror', 'Sci-Fi'],\n",
       " ['Drama', 'Romance'],\n",
       " ['Action', 'Adventure', 'Drama'],\n",
       " ['Adventure', 'Drama', 'Fantasy'],\n",
       " ['Drama', 'Romance', 'Sci-Fi'],\n",
       " ['Action', 'Adventure', 'Thriller'],\n",
       " ['Comedy', 'Fantasy'],\n",
       " ['Action', 'Comedy', 'Crime'],\n",
       " ['Adventure', 'Drama', 'Romance'],\n",
       " ['Action', 'Crime', 'Drama'],\n",
       " ['Comedy', 'Drama', 'Romance'],\n",
       " ['Crime', 'Drama'],\n",
       " ['Crime', 'Drama', 'Mystery'],\n",
       " ['Action', 'Adventure', 'Sci-Fi'],\n",
       " ['Animation', 'Fantasy'],\n",
       " ['Animation', 'Adventure', 'Comedy'],\n",
       " ['Drama', 'Mystery', 'War'],\n",
       " ['Comedy', 'Romance'],\n",
       " ['Animation', 'Comedy', 'Family'],\n",
       " ['Comedy'],\n",
       " ['Horror', 'Mystery', 'Thriller'],\n",
       " ['Action', 'Adventure', 'Drama'],\n",
       " ['Comedy'],\n",
       " ['Drama'],\n",
       " ['Adventure', 'Biography', 'Drama'],\n",
       " ['Comedy'],\n",
       " ['Horror', 'Thriller'],\n",
       " ['Action', 'Drama', 'Family'],\n",
       " ['Comedy', 'Fantasy', 'Horror'],\n",
       " ['Comedy', 'Romance'],\n",
       " ['Drama', 'Mystery', 'Romance'],\n",
       " ['Action', 'Adventure', 'Comedy'],\n",
       " ['Thriller'],\n",
       " ['Comedy'],\n",
       " ['Adventure', 'Comedy', 'Sci-Fi'],\n",
       " ['Mystery', 'Thriller'],\n",
       " ['Comedy', 'Drama'],\n",
       " ['Adventure', 'Drama', 'Family'],\n",
       " ['Horror', 'Thriller'],\n",
       " ['Action', 'Drama', 'Romance'],\n",
       " ['Drama', 'Romance'],\n",
       " ['Action', 'Adventure', 'Fantasy'],\n",
       " ['Comedy'],\n",
       " ['Action', 'Biography', 'Drama'],\n",
       " ['Drama', 'Mystery', 'Romance'],\n",
       " ['Adventure', 'Drama', 'Western'],\n",
       " ['Drama', 'Music', 'Romance'],\n",
       " ['Comedy', 'Romance', 'Western'],\n",
       " ['Horror', 'Thriller'],\n",
       " ['Adventure', 'Family', 'Fantasy'],\n",
       " ['Crime', 'Drama', 'Mystery'],\n",
       " ['Horror', 'Mystery'],\n",
       " ['Comedy', 'Crime', 'Drama'],\n",
       " ['Action', 'Comedy', 'Romance'],\n",
       " ['Action', 'Biography', 'Drama'],\n",
       " ['Drama', 'Music'],\n",
       " ['Comedy', 'Drama'],\n",
       " ['Drama', 'Thriller', 'War'],\n",
       " ['Action', 'Mystery', 'Thriller'],\n",
       " ['Horror', 'Sci-Fi', 'Thriller'],\n",
       " ['Comedy', 'Drama', 'Romance'],\n",
       " ['Action', 'Adventure', 'Fantasy'],\n",
       " ['Drama', 'Mystery', 'Romance'],\n",
       " ['Drama'],\n",
       " ['Action', 'Adventure', 'Thriller'],\n",
       " ['Animation', 'Action', 'Adventure'],\n",
       " ['Drama', 'Fantasy', 'Mystery'],\n",
       " ['Drama', 'Sci-Fi'],\n",
       " ['Animation', 'Adventure', 'Comedy'],\n",
       " ['Horror', 'Thriller'],\n",
       " ['Action', 'Mystery', 'Thriller'],\n",
       " ['Action', 'Mystery', 'Sci-Fi'],\n",
       " ['Crime', 'Drama', 'Thriller'],\n",
       " ['Comedy', 'Drama', 'Romance'],\n",
       " ['Biography', 'Drama', 'Thriller'],\n",
       " ['Action', 'Adventure', 'Family'],\n",
       " ['Animation', 'Comedy', 'Family'],\n",
       " ['Action', 'Crime', 'Drama'],\n",
       " ['Comedy'],\n",
       " ['Comedy', 'Crime', 'Thriller'],\n",
       " ['Comedy', 'Romance'],\n",
       " ['Animation', 'Comedy', 'Drama'],\n",
       " ['Action', 'Crime', 'Thriller'],\n",
       " ['Comedy', 'Romance'],\n",
       " ['Adventure', 'Biography', 'Drama'],\n",
       " ['Animation', 'Adventure', 'Comedy'],\n",
       " ['Crime', 'Drama', 'Mystery'],\n",
       " ['Action', 'Comedy', 'Sci-Fi'],\n",
       " ['Comedy', 'Crime'],\n",
       " ['Animation', 'Action', 'Adventure'],\n",
       " ['Action', 'Drama', 'Thriller'],\n",
       " ['Fantasy', 'Horror'],\n",
       " ['Crime', 'Drama', 'Thriller'],\n",
       " ['Action', 'Adventure', 'Fantasy'],\n",
       " ['Comedy', 'Drama', 'Romance'],\n",
       " ['Biography', 'Drama', 'Romance'],\n",
       " ['Action', 'Adventure', 'Comedy'],\n",
       " ['Horror', 'Thriller'],\n",
       " ['Horror', 'Mystery', 'Thriller'],\n",
       " ['Comedy', 'Romance'],\n",
       " ['Animation', 'Adventure', 'Comedy'],\n",
       " ['Crime', 'Drama', 'Mystery'],\n",
       " ['Adventure', 'Biography', 'Drama'],\n",
       " ['Horror', 'Mystery', 'Thriller'],\n",
       " ['Adventure', 'Fantasy', 'Mystery'],\n",
       " ['Action', 'Adventure', 'Sci-Fi'],\n",
       " ['Biography', 'Drama'],\n",
       " ['Comedy'],\n",
       " ['Drama', 'Sport'],\n",
       " ['Comedy', 'Family'],\n",
       " ['Drama', 'Romance'],\n",
       " ['Action', 'Adventure', 'Comedy'],\n",
       " ['Comedy'],\n",
       " ['Mystery', 'Romance', 'Thriller'],\n",
       " ['Crime', 'Drama'],\n",
       " ['Action', 'Comedy'],\n",
       " ['Comedy', 'Crime'],\n",
       " ['Drama', 'Thriller'],\n",
       " ['Drama'],\n",
       " ['Animation', 'Adventure', 'Comedy'],\n",
       " ['Action', 'Thriller'],\n",
       " ['Drama', 'Thriller'],\n",
       " ['Animation', 'Adventure', 'Comedy'],\n",
       " ['Crime', 'Drama', 'Mystery'],\n",
       " ['Biography', 'Drama', 'Sport'],\n",
       " ['Crime', 'Drama', 'Thriller'],\n",
       " ['Drama', 'Music'],\n",
       " ['Crime', 'Drama', 'Thriller'],\n",
       " ['Drama', 'Romance'],\n",
       " ['Animation', 'Action', 'Adventure'],\n",
       " ['Comedy', 'Drama'],\n",
       " ['Action', 'Adventure', 'Drama'],\n",
       " ['Biography', 'Crime', 'Drama'],\n",
       " ['Horror'],\n",
       " ['Biography', 'Drama', 'Mystery'],\n",
       " ['Drama', 'Romance'],\n",
       " ['Comedy', 'Family'],\n",
       " ['Drama'],\n",
       " ['Drama', 'Fantasy', 'Horror'],\n",
       " ['Drama', 'Romance'],\n",
       " ['Biography', 'Drama', 'History'],\n",
       " ['Comedy', 'Family'],\n",
       " ['Action', 'Adventure', 'Thriller'],\n",
       " ['Comedy', 'Drama'],\n",
       " ['Action', 'Adventure', 'Fantasy'],\n",
       " ['Action', 'Thriller'],\n",
       " ['Drama', 'Romance'],\n",
       " ['Comedy', 'Drama', 'Romance'],\n",
       " ['Drama', 'Horror', 'Sci-Fi'],\n",
       " ['Comedy', 'Horror', 'Romance'],\n",
       " ['Drama'],\n",
       " ['Action', 'Adventure', 'Sci-Fi'],\n",
       " ['Action', 'Adventure', 'Fantasy'],\n",
       " ['Action', 'Adventure', 'Drama'],\n",
       " ['Biography', 'Comedy', 'Drama'],\n",
       " ['Drama', 'Mystery', 'Romance'],\n",
       " ['Animation', 'Adventure', 'Comedy'],\n",
       " ['Drama', 'Romance', 'Sci-Fi'],\n",
       " ['Drama'],\n",
       " ['Drama', 'Fantasy'],\n",
       " ['Drama', 'Romance'],\n",
       " ['Comedy', 'Horror', 'Thriller'],\n",
       " ['Comedy', 'Drama', 'Romance'],\n",
       " ['Action', 'Drama', 'Family'],\n",
       " ['Comedy', 'Drama', 'Romance'],\n",
       " ['Action', 'Thriller', 'War'],\n",
       " ['Adventure', 'Comedy', 'Drama'],\n",
       " ['Comedy', 'Romance'],\n",
       " ['Comedy', 'Romance'],\n",
       " ['Comedy', 'Drama', 'Romance'],\n",
       " ['Action', 'Adventure', 'Crime'],\n",
       " ['Comedy', 'Romance'],\n",
       " ['Animation', 'Action', 'Adventure'],\n",
       " ['Action', 'Crime', 'Sci-Fi'],\n",
       " ['Comedy', 'Drama', 'Romance'],\n",
       " ['Crime', 'Thriller'],\n",
       " ['Comedy', 'Horror', 'Sci-Fi'],\n",
       " ['Drama', 'Thriller'],\n",
       " ['Drama', 'Fantasy', 'Horror'],\n",
       " ['Adventure', 'Drama', 'Family'],\n",
       " ['Mystery', 'Sci-Fi', 'Thriller'],\n",
       " ['Biography', 'Crime', 'Drama'],\n",
       " ['Drama', 'Fantasy', 'Horror'],\n",
       " ['Action', 'Adventure', 'Thriller'],\n",
       " ['Crime', 'Drama', 'Fantasy'],\n",
       " ['Adventure', 'Family', 'Fantasy'],\n",
       " ['Action', 'Adventure', 'Drama'],\n",
       " ['Action', 'Comedy', 'Horror'],\n",
       " ['Comedy', 'Drama', 'Family'],\n",
       " ['Action', 'Thriller'],\n",
       " ['Action', 'Adventure', 'Sci-Fi'],\n",
       " ['Adventure', 'Drama', 'Fantasy'],\n",
       " ['Drama'],\n",
       " ['Drama'],\n",
       " ['Comedy', 'Drama', 'Music'],\n",
       " ['Drama', 'Fantasy', 'Music'],\n",
       " ['Comedy', 'Horror'],\n",
       " ['Action', 'Comedy', 'Sport'],\n",
       " ['Horror'],\n",
       " ['Comedy', 'Drama'],\n",
       " ['Horror', 'Mystery'],\n",
       " ['Adventure', 'Drama', 'Fantasy'],\n",
       " ['Comedy', 'Romance'],\n",
       " ['Action', 'Sci-Fi', 'Thriller'],\n",
       " ['Crime', 'Drama'],\n",
       " ['Action', 'Adventure', 'Sci-Fi'],\n",
       " ['Adventure'],\n",
       " ['Comedy', 'Drama'],\n",
       " ['Comedy', 'Drama'],\n",
       " ['Comedy', 'Drama', 'Romance'],\n",
       " ['Adventure', 'Comedy', 'Drama'],\n",
       " ['Action', 'Sci-Fi', 'Thriller'],\n",
       " ['Comedy', 'Romance'],\n",
       " ['Action', 'Fantasy', 'Horror'],\n",
       " ['Crime', 'Drama', 'Thriller'],\n",
       " ['Action', 'Drama', 'Thriller'],\n",
       " ['Crime', 'Drama', 'Mystery'],\n",
       " ['Crime', 'Drama', 'Mystery'],\n",
       " ['Drama', 'Sci-Fi', 'Thriller'],\n",
       " ['Biography', 'Drama', 'History'],\n",
       " ['Crime', 'Horror', 'Thriller'],\n",
       " ['Horror', 'Thriller'],\n",
       " ['Comedy', 'Drama', 'Musical'],\n",
       " ['Horror', 'Mystery'],\n",
       " ['Biography', 'Drama', 'Sport'],\n",
       " ['Comedy', 'Family', 'Romance'],\n",
       " ['Drama', 'Thriller'],\n",
       " ['Biography', 'Drama', 'Family'],\n",
       " ['Comedy', 'Drama', 'Family'],\n",
       " ['Drama', 'Fantasy', 'Musical'],\n",
       " ['Comedy'],\n",
       " ['Adventure', 'Family'],\n",
       " ['Adventure', 'Comedy', 'Fantasy'],\n",
       " ['Horror', 'Thriller'],\n",
       " ['Drama', 'Romance'],\n",
       " ['Action', 'Adventure', 'Fantasy'],\n",
       " ['Drama', 'Family', 'Music'],\n",
       " ['Action', 'Adventure', 'Horror'],\n",
       " ['Comedy'],\n",
       " ['Horror'],\n",
       " ['Drama', 'Music', 'Romance'],\n",
       " ['Comedy', 'Family', 'Fantasy']]"
      ]
     },
     "execution_count": 40,
     "metadata": {},
     "output_type": "execute_result"
    }
   ],
   "source": [
    "list1"
   ]
  },
  {
   "cell_type": "code",
   "execution_count": 41,
   "metadata": {},
   "outputs": [],
   "source": [
    "#to convert 2D to 1D \n",
    "one_d=[] \n",
    "for item in list1:\n",
    "    for item1 in item:\n",
    "        one_d.append(item1)"
   ]
  },
  {
   "cell_type": "code",
   "execution_count": 42,
   "metadata": {},
   "outputs": [],
   "source": [
    "uni_list=[] \n",
    "for item in one_d:\n",
    "    if item not in uni_list:\n",
    "        uni_list.append(item)"
   ]
  },
  {
   "cell_type": "code",
   "execution_count": 43,
   "metadata": {},
   "outputs": [
    {
     "data": {
      "text/plain": [
       "['Action',\n",
       " 'Adventure',\n",
       " 'Sci-Fi',\n",
       " 'Mystery',\n",
       " 'Horror',\n",
       " 'Thriller',\n",
       " 'Animation',\n",
       " 'Comedy',\n",
       " 'Family',\n",
       " 'Fantasy',\n",
       " 'Drama',\n",
       " 'Music',\n",
       " 'Biography',\n",
       " 'Romance',\n",
       " 'History',\n",
       " 'Western',\n",
       " 'Crime',\n",
       " 'War',\n",
       " 'Musical',\n",
       " 'Sport']"
      ]
     },
     "execution_count": 43,
     "metadata": {},
     "output_type": "execute_result"
    }
   ],
   "source": [
    "uni_list"
   ]
  },
  {
   "cell_type": "code",
   "execution_count": 44,
   "metadata": {},
   "outputs": [
    {
     "data": {
      "text/plain": [
       "Counter({'Action': 277,\n",
       "         'Adventure': 244,\n",
       "         'Sci-Fi': 107,\n",
       "         'Mystery': 86,\n",
       "         'Horror': 87,\n",
       "         'Thriller': 148,\n",
       "         'Animation': 45,\n",
       "         'Comedy': 250,\n",
       "         'Family': 48,\n",
       "         'Fantasy': 92,\n",
       "         'Drama': 419,\n",
       "         'Music': 15,\n",
       "         'Biography': 67,\n",
       "         'Romance': 120,\n",
       "         'History': 25,\n",
       "         'Western': 4,\n",
       "         'Crime': 126,\n",
       "         'War': 10,\n",
       "         'Musical': 5,\n",
       "         'Sport': 15})"
      ]
     },
     "execution_count": 44,
     "metadata": {},
     "output_type": "execute_result"
    }
   ],
   "source": [
    "#how many films of each genre were made \n",
    "from collections import Counter \n",
    "Counter(one_d)"
   ]
  },
  {
   "cell_type": "code",
   "execution_count": null,
   "metadata": {},
   "outputs": [],
   "source": []
  }
 ],
 "metadata": {
  "kernelspec": {
   "display_name": "Python 3",
   "language": "python",
   "name": "python3"
  },
  "language_info": {
   "codemirror_mode": {
    "name": "ipython",
    "version": 3
   },
   "file_extension": ".py",
   "mimetype": "text/x-python",
   "name": "python",
   "nbconvert_exporter": "python",
   "pygments_lexer": "ipython3",
   "version": "3.8.5"
  }
 },
 "nbformat": 4,
 "nbformat_minor": 4
}
